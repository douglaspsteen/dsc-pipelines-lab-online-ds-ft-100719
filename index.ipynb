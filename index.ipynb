{
 "cells": [
  {
   "cell_type": "markdown",
   "metadata": {},
   "source": [
    "# Comparing Machine Learning Techniques Using Pipelines - Lab"
   ]
  },
  {
   "cell_type": "markdown",
   "metadata": {},
   "source": [
    "## Introduction"
   ]
  },
  {
   "cell_type": "markdown",
   "metadata": {},
   "source": [
    "In this lab, you'lll use a Dataset created by Otto group, which was also used in a [Kaggle competition](https://www.kaggle.com/c/otto-group-product-classification-challenge/data).\n",
    "\n",
    "The description of the data set is as follows:\n",
    "\n",
    "The Otto Group is one of the world’s biggest e-commerce companies, with subsidiaries in more than 20 countries, including Crate & Barrel (USA), Otto.de (Germany) and 3 Suisses (France). They are selling millions of products worldwide every day, with several thousand products being added to our product line.\n",
    "\n",
    "A consistent analysis of the performance of our products is crucial. However, due to their global infrastructure, many identical products get classified differently. Therefore, the quality of our product analysis depends heavily on the ability to accurately cluster similar products. The better the classification, the more insights Otto Group can generate about their product range.\n",
    "\n",
    "In this lab, you'll use a data set containing:\n",
    "- A column `id`, which is an anonymous id unique to a product\n",
    "- 93 columns `feat_1`, `feat_2`, ..., `feat_93`, which are the various features of a product\n",
    "- a column `target` - the class of a product\n"
   ]
  },
  {
   "cell_type": "markdown",
   "metadata": {},
   "source": [
    "## Objectives\n",
    "\n",
    "You will be able to:\n",
    "- Compare different classification techniques\n",
    "- Construct pipelines in scikit-learn\n",
    "- Use pipelines in combination with GridSearchCV"
   ]
  },
  {
   "cell_type": "markdown",
   "metadata": {},
   "source": [
    "## The Data Science Workflow"
   ]
  },
  {
   "cell_type": "markdown",
   "metadata": {},
   "source": [
    "You will be following the data science workflow:\n",
    "\n",
    "1. Initial data inspection, exploratory data analysis, and cleaning\n",
    "2. Feature engineering and selection\n",
    "3. create a baseline model\n",
    "4. create a machine learning pipeline and compare results with the baseline model\n",
    "5. Interpret the model and draw conclusions"
   ]
  },
  {
   "cell_type": "markdown",
   "metadata": {},
   "source": [
    "##  Initial data inspection, exploratory data analysis, and cleaning"
   ]
  },
  {
   "cell_type": "markdown",
   "metadata": {},
   "source": [
    "The data is stored in \"otto_group.csv\".\n",
    "\n",
    "Things to do here:\n",
    "- Check for NAs\n",
    "- Check the distributions\n",
    "- Check how many inputs there are\n",
    "- ..."
   ]
  },
  {
   "cell_type": "code",
   "execution_count": 6,
   "metadata": {},
   "outputs": [],
   "source": [
    "import pandas as pd\n",
    "import numpy as np\n",
    "import matplotlib.pyplot as plt\n",
    "import seaborn as sns\n",
    "%matplotlib inline"
   ]
  },
  {
   "cell_type": "code",
   "execution_count": 2,
   "metadata": {},
   "outputs": [
    {
     "data": {
      "text/html": [
       "<div>\n",
       "<style scoped>\n",
       "    .dataframe tbody tr th:only-of-type {\n",
       "        vertical-align: middle;\n",
       "    }\n",
       "\n",
       "    .dataframe tbody tr th {\n",
       "        vertical-align: top;\n",
       "    }\n",
       "\n",
       "    .dataframe thead th {\n",
       "        text-align: right;\n",
       "    }\n",
       "</style>\n",
       "<table border=\"1\" class=\"dataframe\">\n",
       "  <thead>\n",
       "    <tr style=\"text-align: right;\">\n",
       "      <th></th>\n",
       "      <th>id</th>\n",
       "      <th>feat_1</th>\n",
       "      <th>feat_2</th>\n",
       "      <th>feat_3</th>\n",
       "      <th>feat_4</th>\n",
       "      <th>feat_5</th>\n",
       "      <th>feat_6</th>\n",
       "      <th>feat_7</th>\n",
       "      <th>feat_8</th>\n",
       "      <th>feat_9</th>\n",
       "      <th>...</th>\n",
       "      <th>feat_85</th>\n",
       "      <th>feat_86</th>\n",
       "      <th>feat_87</th>\n",
       "      <th>feat_88</th>\n",
       "      <th>feat_89</th>\n",
       "      <th>feat_90</th>\n",
       "      <th>feat_91</th>\n",
       "      <th>feat_92</th>\n",
       "      <th>feat_93</th>\n",
       "      <th>target</th>\n",
       "    </tr>\n",
       "  </thead>\n",
       "  <tbody>\n",
       "    <tr>\n",
       "      <td>0</td>\n",
       "      <td>1</td>\n",
       "      <td>1</td>\n",
       "      <td>0</td>\n",
       "      <td>0</td>\n",
       "      <td>0</td>\n",
       "      <td>0</td>\n",
       "      <td>0</td>\n",
       "      <td>0</td>\n",
       "      <td>0</td>\n",
       "      <td>0</td>\n",
       "      <td>...</td>\n",
       "      <td>1</td>\n",
       "      <td>0</td>\n",
       "      <td>0</td>\n",
       "      <td>0</td>\n",
       "      <td>0</td>\n",
       "      <td>0</td>\n",
       "      <td>0</td>\n",
       "      <td>0</td>\n",
       "      <td>0</td>\n",
       "      <td>Class_1</td>\n",
       "    </tr>\n",
       "    <tr>\n",
       "      <td>1</td>\n",
       "      <td>2</td>\n",
       "      <td>0</td>\n",
       "      <td>0</td>\n",
       "      <td>0</td>\n",
       "      <td>0</td>\n",
       "      <td>0</td>\n",
       "      <td>0</td>\n",
       "      <td>0</td>\n",
       "      <td>1</td>\n",
       "      <td>0</td>\n",
       "      <td>...</td>\n",
       "      <td>0</td>\n",
       "      <td>0</td>\n",
       "      <td>0</td>\n",
       "      <td>0</td>\n",
       "      <td>0</td>\n",
       "      <td>0</td>\n",
       "      <td>0</td>\n",
       "      <td>0</td>\n",
       "      <td>0</td>\n",
       "      <td>Class_1</td>\n",
       "    </tr>\n",
       "    <tr>\n",
       "      <td>2</td>\n",
       "      <td>3</td>\n",
       "      <td>0</td>\n",
       "      <td>0</td>\n",
       "      <td>0</td>\n",
       "      <td>0</td>\n",
       "      <td>0</td>\n",
       "      <td>0</td>\n",
       "      <td>0</td>\n",
       "      <td>1</td>\n",
       "      <td>0</td>\n",
       "      <td>...</td>\n",
       "      <td>0</td>\n",
       "      <td>0</td>\n",
       "      <td>0</td>\n",
       "      <td>0</td>\n",
       "      <td>0</td>\n",
       "      <td>0</td>\n",
       "      <td>0</td>\n",
       "      <td>0</td>\n",
       "      <td>0</td>\n",
       "      <td>Class_1</td>\n",
       "    </tr>\n",
       "    <tr>\n",
       "      <td>3</td>\n",
       "      <td>4</td>\n",
       "      <td>1</td>\n",
       "      <td>0</td>\n",
       "      <td>0</td>\n",
       "      <td>1</td>\n",
       "      <td>6</td>\n",
       "      <td>1</td>\n",
       "      <td>5</td>\n",
       "      <td>0</td>\n",
       "      <td>0</td>\n",
       "      <td>...</td>\n",
       "      <td>0</td>\n",
       "      <td>1</td>\n",
       "      <td>2</td>\n",
       "      <td>0</td>\n",
       "      <td>0</td>\n",
       "      <td>0</td>\n",
       "      <td>0</td>\n",
       "      <td>0</td>\n",
       "      <td>0</td>\n",
       "      <td>Class_1</td>\n",
       "    </tr>\n",
       "    <tr>\n",
       "      <td>4</td>\n",
       "      <td>5</td>\n",
       "      <td>0</td>\n",
       "      <td>0</td>\n",
       "      <td>0</td>\n",
       "      <td>0</td>\n",
       "      <td>0</td>\n",
       "      <td>0</td>\n",
       "      <td>0</td>\n",
       "      <td>0</td>\n",
       "      <td>0</td>\n",
       "      <td>...</td>\n",
       "      <td>1</td>\n",
       "      <td>0</td>\n",
       "      <td>0</td>\n",
       "      <td>0</td>\n",
       "      <td>0</td>\n",
       "      <td>1</td>\n",
       "      <td>0</td>\n",
       "      <td>0</td>\n",
       "      <td>0</td>\n",
       "      <td>Class_1</td>\n",
       "    </tr>\n",
       "  </tbody>\n",
       "</table>\n",
       "<p>5 rows × 95 columns</p>\n",
       "</div>"
      ],
      "text/plain": [
       "   id  feat_1  feat_2  feat_3  feat_4  feat_5  feat_6  feat_7  feat_8  feat_9  \\\n",
       "0   1       1       0       0       0       0       0       0       0       0   \n",
       "1   2       0       0       0       0       0       0       0       1       0   \n",
       "2   3       0       0       0       0       0       0       0       1       0   \n",
       "3   4       1       0       0       1       6       1       5       0       0   \n",
       "4   5       0       0       0       0       0       0       0       0       0   \n",
       "\n",
       "   ...  feat_85  feat_86  feat_87  feat_88  feat_89  feat_90  feat_91  \\\n",
       "0  ...        1        0        0        0        0        0        0   \n",
       "1  ...        0        0        0        0        0        0        0   \n",
       "2  ...        0        0        0        0        0        0        0   \n",
       "3  ...        0        1        2        0        0        0        0   \n",
       "4  ...        1        0        0        0        0        1        0   \n",
       "\n",
       "   feat_92  feat_93   target  \n",
       "0        0        0  Class_1  \n",
       "1        0        0  Class_1  \n",
       "2        0        0  Class_1  \n",
       "3        0        0  Class_1  \n",
       "4        0        0  Class_1  \n",
       "\n",
       "[5 rows x 95 columns]"
      ]
     },
     "execution_count": 2,
     "metadata": {},
     "output_type": "execute_result"
    }
   ],
   "source": [
    "df = pd.read_csv('otto_group.csv')\n",
    "df.head()"
   ]
  },
  {
   "cell_type": "code",
   "execution_count": 5,
   "metadata": {},
   "outputs": [
    {
     "data": {
      "text/plain": [
       "0"
      ]
     },
     "execution_count": 5,
     "metadata": {},
     "output_type": "execute_result"
    }
   ],
   "source": [
    "# Check for NAs\n",
    "df.isna().sum().sum()\n",
    "# No NAs"
   ]
  },
  {
   "cell_type": "markdown",
   "metadata": {},
   "source": [
    "If you look at all the histograms, you can tell that a lot of the data are zero-inflated, so most of the variables contain mostly zeros and then some higher values here and there. No normality, but for most machine learning techniques this is not an issue. "
   ]
  },
  {
   "cell_type": "code",
   "execution_count": null,
   "metadata": {},
   "outputs": [],
   "source": [
    "# Your code here"
   ]
  },
  {
   "cell_type": "markdown",
   "metadata": {},
   "source": [
    "Because the data is zero-inflated the boxplots look as shown above. Because there are this many zeroes, most values above zero will seem to be outliers. The safe decision for this data is to not delete any outliers and see what happens. With many 0s, sparse data is available and high values may be super informative. More-over, without having any intuitive meaning for each of the features, we don't know if a value of ~260 is actually an outlier."
   ]
  },
  {
   "cell_type": "code",
   "execution_count": null,
   "metadata": {},
   "outputs": [],
   "source": [
    "# Your code here"
   ]
  },
  {
   "cell_type": "markdown",
   "metadata": {},
   "source": [
    "## Feature engineering and selection with PCA"
   ]
  },
  {
   "cell_type": "markdown",
   "metadata": {},
   "source": [
    "Have a look at the correlation structure of your features using a heatmap."
   ]
  },
  {
   "cell_type": "code",
   "execution_count": 12,
   "metadata": {},
   "outputs": [
    {
     "data": {
      "text/plain": [
       "<matplotlib.axes._subplots.AxesSubplot at 0x20d15b31da0>"
      ]
     },
     "execution_count": 12,
     "metadata": {},
     "output_type": "execute_result"
    },
    {
     "data": {
      "image/png": "[encoded data removed]",
      "text/plain": [
       "<Figure size 1296x1296 with 2 Axes>"
      ]
     },
     "metadata": {
      "needs_background": "light"
     },
     "output_type": "display_data"
    }
   ],
   "source": [
    "plt.figure(figsize=(18,18))\n",
    "sns.heatmap(df.corr(), cmap='viridis')"
   ]
  },
  {
   "cell_type": "markdown",
   "metadata": {},
   "source": [
    "Use PCA to downscale your features. Use PCA to select a number of features in a way that you still keep 80% of your explained variance."
   ]
  },
  {
   "cell_type": "code",
   "execution_count": 13,
   "metadata": {},
   "outputs": [],
   "source": [
    "# Separate features and target into X and y\n",
    "X = df.drop(labels=['id', 'target'], axis=1)\n",
    "y = df.target"
   ]
  },
  {
   "cell_type": "code",
   "execution_count": 17,
   "metadata": {},
   "outputs": [
    {
     "name": "stdout",
     "output_type": "stream",
     "text": [
      "[(1, 0.11772071841190285), (2, 0.2038662057082306), (3, 0.26774826757416115), (4, 0.3290352452140726), (5, 0.37312763415297945), (6, 0.4128270465040943), (7, 0.4477184298665157), (8, 0.4792190666567858), (9, 0.508599082206648), (10, 0.5360607065199333), (11, 0.5619932348258533), (12, 0.5842443047459582), (13, 0.605862698630443), (14, 0.6255681882725221), (15, 0.6447936140738199), (16, 0.6634006258435369), (17, 0.6809193446826549), (18, 0.6979733127261146), (19, 0.713472755778342), (20, 0.7276117337860766), (21, 0.7400555399973849), (22, 0.7518810462495418), (23, 0.7625833843554692), (24, 0.7727470936047561), (25, 0.7827542994989459), (26, 0.7920375580751785), (27, 0.8006377950172451), (28, 0.808902108335064), (29, 0.8170260310141335), (30, 0.8245310398365672), (31, 0.8319726920342869), (32, 0.8390051389301596), (33, 0.8459450438989606), (34, 0.8526867575271321), (35, 0.8592690999990504), (36, 0.8655295497089694), (37, 0.8716003570898856), (38, 0.8775608818398856), (39, 0.8832475996035691), (40, 0.8887264757036865), (41, 0.8939679032083216), (42, 0.8989313963651467), (43, 0.903745431723497), (44, 0.9084440053120889), (45, 0.912935407819614), (46, 0.9169814601812689), (47, 0.9209173294593024), (48, 0.9247849946199747), (49, 0.9284401440512968), (50, 0.9318614247793918), (51, 0.9352255750962531), (52, 0.938371277143386), (53, 0.9414480465148534), (54, 0.9444342214224907), (55, 0.9471990783571708), (56, 0.9499359922979476), (57, 0.9525700646799887), (58, 0.9550755099207013), (59, 0.9575225633722958), (60, 0.9598837020155815), (61, 0.9622217062226589), (62, 0.9644837017069269), (63, 0.9666897417614627), (64, 0.9687605539982268), (65, 0.9707830532838791), (66, 0.97263612503449), (67, 0.9744390877328192), (68, 0.9761596687185312), (69, 0.9778512667599238), (70, 0.9794430560836651)]\n"
     ]
    }
   ],
   "source": [
    "from sklearn.decomposition import PCA\n",
    "\n",
    "pca = PCA(n_components=70)\n",
    "\n",
    "pca.fit_transform(X)\n",
    "exp_vars = list(zip(range(1,71), pca.explained_variance_ratio_.cumsum()))\n",
    "print(exp_vars)\n",
    "\n",
    "# Looks like 27 features is right to keep 80% of explained variance"
   ]
  },
  {
   "cell_type": "markdown",
   "metadata": {},
   "source": [
    "## Create a train test split with a test size of 40%"
   ]
  },
  {
   "cell_type": "markdown",
   "metadata": {},
   "source": [
    "This is a relatively big training set. Feel free to make it smaller (down to ~20%), but for an initial run you can try smaller training sets so the computation time is more manageable.\n",
    "\n",
    "For now, simply use the original data and not the principal components. We looked at the PC's first to get a sense of our correlation structure, and to see how we can downsize our data without losing too much information. In what's next, you'll make PCA part of the pipeline!!"
   ]
  },
  {
   "cell_type": "code",
   "execution_count": 18,
   "metadata": {},
   "outputs": [],
   "source": [
    "from sklearn.model_selection import train_test_split\n",
    "X_train, X_test, y_train, y_test = train_test_split(X, y, test_size=0.4, random_state=123)"
   ]
  },
  {
   "cell_type": "code",
   "execution_count": 20,
   "metadata": {},
   "outputs": [
    {
     "data": {
      "text/plain": [
       "((37126, 93), (24752, 93), (37126,), (24752,))"
      ]
     },
     "execution_count": 20,
     "metadata": {},
     "output_type": "execute_result"
    }
   ],
   "source": [
    "X_train.shape, X_test.shape, y_train.shape, y_test.shape"
   ]
  },
  {
   "cell_type": "markdown",
   "metadata": {},
   "source": [
    "## Create a baseline model"
   ]
  },
  {
   "cell_type": "markdown",
   "metadata": {},
   "source": [
    "Create your baseline model *in a pipeline setting*. In the pipeline\n",
    "- Your first step will be to scale your features down to the number of features that ensure you keep just 80% of your explained variance (which we saw before)\n",
    "- Your second step will be the building a basic logistic regression model.\n",
    "\n",
    "Make sure to fit the model using the training set, and test the result by obtaining the accuracy using the test set."
   ]
  },
  {
   "cell_type": "code",
   "execution_count": 23,
   "metadata": {},
   "outputs": [],
   "source": [
    "# Import necessary packages for PCA and LogReg\n",
    "from sklearn.pipeline import Pipeline\n",
    "from sklearn.linear_model import LogisticRegression"
   ]
  },
  {
   "cell_type": "code",
   "execution_count": 26,
   "metadata": {},
   "outputs": [
    {
     "name": "stdout",
     "output_type": "stream",
     "text": [
      "0.7251939237233355\n"
     ]
    },
    {
     "name": "stderr",
     "output_type": "stream",
     "text": [
      "C:\\Users\\dougl\\Anaconda3\\envs\\learn-env\\lib\\site-packages\\sklearn\\linear_model\\_logistic.py:940: ConvergenceWarning: lbfgs failed to converge (status=1):\n",
      "STOP: TOTAL NO. of ITERATIONS REACHED LIMIT.\n",
      "\n",
      "Increase the number of iterations (max_iter) or scale the data as shown in:\n",
      "    https://scikit-learn.org/stable/modules/preprocessing.html\n",
      "Please also refer to the documentation for alternative solver options:\n",
      "    https://scikit-learn.org/stable/modules/linear_model.html#logistic-regression\n",
      "  extra_warning_msg=_LOGISTIC_SOLVER_CONVERGENCE_MSG)\n"
     ]
    }
   ],
   "source": [
    "pipe_lg = Pipeline([('pca', PCA(n_components=27, random_state=123)),\n",
    "                   ('clf', LogisticRegression(random_state=123))])\n",
    "pipe_lg.fit(X_train, y_train)\n",
    "print(pipe_lg.score(X_test, y_test))"
   ]
  },
  {
   "cell_type": "markdown",
   "metadata": {},
   "source": [
    "## Create a pipeline consisting of a linear SVM, a simple Decision Tree and a simple Random Forest Classifier"
   ]
  },
  {
   "cell_type": "markdown",
   "metadata": {},
   "source": [
    "Repeat the above, but now create three different pipelines:\n",
    "- One for a standard linear SCM\n",
    "- One for a default decision tree\n",
    "- One for a RandomForestClassifier"
   ]
  },
  {
   "cell_type": "code",
   "execution_count": 28,
   "metadata": {},
   "outputs": [
    {
     "name": "stdout",
     "output_type": "stream",
     "text": [
      "0.7501616031027796\n"
     ]
    }
   ],
   "source": [
    "# Your code here\n",
    "# ⏰ This cell may take several minutes to run\n",
    "from sklearn.svm import SVC\n",
    "\n",
    "pipe_svm = Pipeline([('pca', PCA(n_components=27, random_state=123)),\n",
    "                   ('clf', SVC(random_state=123))])\n",
    "pipe_svm.fit(X_train, y_train)\n",
    "print(pipe_svm.score(X_test, y_test))"
   ]
  },
  {
   "cell_type": "code",
   "execution_count": 29,
   "metadata": {},
   "outputs": [
    {
     "name": "stdout",
     "output_type": "stream",
     "text": [
      "0.6685116354234001\n"
     ]
    }
   ],
   "source": [
    "from sklearn.tree import DecisionTreeClassifier\n",
    "\n",
    "pipe_tree = Pipeline([('pca', PCA(n_components=27, random_state=123)),\n",
    "                   ('clf', DecisionTreeClassifier(random_state=123))])\n",
    "pipe_tree.fit(X_train, y_train)\n",
    "print(pipe_tree.score(X_test, y_test))"
   ]
  },
  {
   "cell_type": "code",
   "execution_count": 30,
   "metadata": {},
   "outputs": [
    {
     "name": "stdout",
     "output_type": "stream",
     "text": [
      "0.7686651583710408\n"
     ]
    }
   ],
   "source": [
    "from sklearn.ensemble import RandomForestClassifier\n",
    "\n",
    "pipe_rf = Pipeline([('pca', PCA(n_components=27, random_state=123)),\n",
    "                   ('clf', RandomForestClassifier(random_state=123))])\n",
    "pipe_rf.fit(X_train, y_train)\n",
    "print(pipe_rf.score(X_test, y_test))"
   ]
  },
  {
   "cell_type": "markdown",
   "metadata": {},
   "source": [
    "## Pipeline with grid search"
   ]
  },
  {
   "cell_type": "markdown",
   "metadata": {},
   "source": [
    "Construct two pipelines with grid search:\n",
    "- one for random forests - try to have around 40 different models\n",
    "- one for the adaboost algorithm \n",
    "\n",
    "As extra, level-up work, construct a pipeline with grid search for support vector machines. \n",
    "* Make sure your grid isn't too big. You'll see it takes quite a while to fit SVMs with non-linear kernel functions!"
   ]
  },
  {
   "cell_type": "markdown",
   "metadata": {},
   "source": [
    "### Random Forest pipeline with grid search"
   ]
  },
  {
   "cell_type": "code",
   "execution_count": 31,
   "metadata": {},
   "outputs": [],
   "source": [
    "# imports\n",
    "from sklearn.pipeline import Pipeline\n",
    "from sklearn.ensemble import RandomForestClassifier\n",
    "from sklearn.model_selection import GridSearchCV"
   ]
  },
  {
   "cell_type": "code",
   "execution_count": 37,
   "metadata": {
    "scrolled": false
   },
   "outputs": [
    {
     "name": "stdout",
     "output_type": "stream",
     "text": [
      "Fitting 3 folds for each of 36 candidates, totalling 108 fits\n",
      "[CV] clf__criterion=gini, clf__max_depth=1, clf__min_samples_leaf=1, clf__min_samples_split=1.0 \n"
     ]
    },
    {
     "name": "stderr",
     "output_type": "stream",
     "text": [
      "[Parallel(n_jobs=1)]: Using backend SequentialBackend with 1 concurrent workers.\n"
     ]
    },
    {
     "name": "stdout",
     "output_type": "stream",
     "text": [
      "[CV]  clf__criterion=gini, clf__max_depth=1, clf__min_samples_leaf=1, clf__min_samples_split=1.0, total=   1.1s\n",
      "[CV] clf__criterion=gini, clf__max_depth=1, clf__min_samples_leaf=1, clf__min_samples_split=1.0 \n"
     ]
    },
    {
     "name": "stderr",
     "output_type": "stream",
     "text": [
      "[Parallel(n_jobs=1)]: Done   1 out of   1 | elapsed:    1.0s remaining:    0.0s\n"
     ]
    },
    {
     "name": "stdout",
     "output_type": "stream",
     "text": [
      "[CV]  clf__criterion=gini, clf__max_depth=1, clf__min_samples_leaf=1, clf__min_samples_split=1.0, total=   1.2s\n",
      "[CV] clf__criterion=gini, clf__max_depth=1, clf__min_samples_leaf=1, clf__min_samples_split=1.0 \n",
      "[CV]  clf__criterion=gini, clf__max_depth=1, clf__min_samples_leaf=1, clf__min_samples_split=1.0, total=   1.2s\n",
      "[CV] clf__criterion=gini, clf__max_depth=1, clf__min_samples_leaf=1, clf__min_samples_split=2 \n",
      "[CV]  clf__criterion=gini, clf__max_depth=1, clf__min_samples_leaf=1, clf__min_samples_split=2, total=   3.4s\n",
      "[CV] clf__criterion=gini, clf__max_depth=1, clf__min_samples_leaf=1, clf__min_samples_split=2 \n",
      "[CV]  clf__criterion=gini, clf__max_depth=1, clf__min_samples_leaf=1, clf__min_samples_split=2, total=   3.4s\n",
      "[CV] clf__criterion=gini, clf__max_depth=1, clf__min_samples_leaf=1, clf__min_samples_split=2 \n",
      "[CV]  clf__criterion=gini, clf__max_depth=1, clf__min_samples_leaf=1, clf__min_samples_split=2, total=   3.5s\n",
      "[CV] clf__criterion=gini, clf__max_depth=1, clf__min_samples_leaf=1, clf__min_samples_split=3 \n",
      "[CV]  clf__criterion=gini, clf__max_depth=1, clf__min_samples_leaf=1, clf__min_samples_split=3, total=   3.4s\n",
      "[CV] clf__criterion=gini, clf__max_depth=1, clf__min_samples_leaf=1, clf__min_samples_split=3 \n",
      "[CV]  clf__criterion=gini, clf__max_depth=1, clf__min_samples_leaf=1, clf__min_samples_split=3, total=   3.5s\n",
      "[CV] clf__criterion=gini, clf__max_depth=1, clf__min_samples_leaf=1, clf__min_samples_split=3 \n",
      "[CV]  clf__criterion=gini, clf__max_depth=1, clf__min_samples_leaf=1, clf__min_samples_split=3, total=   3.5s\n",
      "[CV] clf__criterion=gini, clf__max_depth=1, clf__min_samples_leaf=2, clf__min_samples_split=1.0 \n",
      "[CV]  clf__criterion=gini, clf__max_depth=1, clf__min_samples_leaf=2, clf__min_samples_split=1.0, total=   1.1s\n",
      "[CV] clf__criterion=gini, clf__max_depth=1, clf__min_samples_leaf=2, clf__min_samples_split=1.0 \n",
      "[CV]  clf__criterion=gini, clf__max_depth=1, clf__min_samples_leaf=2, clf__min_samples_split=1.0, total=   1.1s\n",
      "[CV] clf__criterion=gini, clf__max_depth=1, clf__min_samples_leaf=2, clf__min_samples_split=1.0 \n",
      "[CV]  clf__criterion=gini, clf__max_depth=1, clf__min_samples_leaf=2, clf__min_samples_split=1.0, total=   0.9s\n",
      "[CV] clf__criterion=gini, clf__max_depth=1, clf__min_samples_leaf=2, clf__min_samples_split=2 \n",
      "[CV]  clf__criterion=gini, clf__max_depth=1, clf__min_samples_leaf=2, clf__min_samples_split=2, total=   3.3s\n",
      "[CV] clf__criterion=gini, clf__max_depth=1, clf__min_samples_leaf=2, clf__min_samples_split=2 \n",
      "[CV]  clf__criterion=gini, clf__max_depth=1, clf__min_samples_leaf=2, clf__min_samples_split=2, total=   3.3s\n",
      "[CV] clf__criterion=gini, clf__max_depth=1, clf__min_samples_leaf=2, clf__min_samples_split=2 \n",
      "[CV]  clf__criterion=gini, clf__max_depth=1, clf__min_samples_leaf=2, clf__min_samples_split=2, total=   3.3s\n",
      "[CV] clf__criterion=gini, clf__max_depth=1, clf__min_samples_leaf=2, clf__min_samples_split=3 \n",
      "[CV]  clf__criterion=gini, clf__max_depth=1, clf__min_samples_leaf=2, clf__min_samples_split=3, total=   3.5s\n",
      "[CV] clf__criterion=gini, clf__max_depth=1, clf__min_samples_leaf=2, clf__min_samples_split=3 \n",
      "[CV]  clf__criterion=gini, clf__max_depth=1, clf__min_samples_leaf=2, clf__min_samples_split=3, total=   3.5s\n",
      "[CV] clf__criterion=gini, clf__max_depth=1, clf__min_samples_leaf=2, clf__min_samples_split=3 \n",
      "[CV]  clf__criterion=gini, clf__max_depth=1, clf__min_samples_leaf=2, clf__min_samples_split=3, total=   3.5s\n",
      "[CV] clf__criterion=gini, clf__max_depth=3, clf__min_samples_leaf=1, clf__min_samples_split=1.0 \n",
      "[CV]  clf__criterion=gini, clf__max_depth=3, clf__min_samples_leaf=1, clf__min_samples_split=1.0, total=   1.2s\n",
      "[CV] clf__criterion=gini, clf__max_depth=3, clf__min_samples_leaf=1, clf__min_samples_split=1.0 \n",
      "[CV]  clf__criterion=gini, clf__max_depth=3, clf__min_samples_leaf=1, clf__min_samples_split=1.0, total=   1.2s\n",
      "[CV] clf__criterion=gini, clf__max_depth=3, clf__min_samples_leaf=1, clf__min_samples_split=1.0 \n",
      "[CV]  clf__criterion=gini, clf__max_depth=3, clf__min_samples_leaf=1, clf__min_samples_split=1.0, total=   1.2s\n",
      "[CV] clf__criterion=gini, clf__max_depth=3, clf__min_samples_leaf=1, clf__min_samples_split=2 \n",
      "[CV]  clf__criterion=gini, clf__max_depth=3, clf__min_samples_leaf=1, clf__min_samples_split=2, total=   7.7s\n",
      "[CV] clf__criterion=gini, clf__max_depth=3, clf__min_samples_leaf=1, clf__min_samples_split=2 \n",
      "[CV]  clf__criterion=gini, clf__max_depth=3, clf__min_samples_leaf=1, clf__min_samples_split=2, total=   7.8s\n",
      "[CV] clf__criterion=gini, clf__max_depth=3, clf__min_samples_leaf=1, clf__min_samples_split=2 \n",
      "[CV]  clf__criterion=gini, clf__max_depth=3, clf__min_samples_leaf=1, clf__min_samples_split=2, total=   7.6s\n",
      "[CV] clf__criterion=gini, clf__max_depth=3, clf__min_samples_leaf=1, clf__min_samples_split=3 \n",
      "[CV]  clf__criterion=gini, clf__max_depth=3, clf__min_samples_leaf=1, clf__min_samples_split=3, total=   7.7s\n",
      "[CV] clf__criterion=gini, clf__max_depth=3, clf__min_samples_leaf=1, clf__min_samples_split=3 \n",
      "[CV]  clf__criterion=gini, clf__max_depth=3, clf__min_samples_leaf=1, clf__min_samples_split=3, total=   7.7s\n",
      "[CV] clf__criterion=gini, clf__max_depth=3, clf__min_samples_leaf=1, clf__min_samples_split=3 \n",
      "[CV]  clf__criterion=gini, clf__max_depth=3, clf__min_samples_leaf=1, clf__min_samples_split=3, total=   7.7s\n",
      "[CV] clf__criterion=gini, clf__max_depth=3, clf__min_samples_leaf=2, clf__min_samples_split=1.0 \n",
      "[CV]  clf__criterion=gini, clf__max_depth=3, clf__min_samples_leaf=2, clf__min_samples_split=1.0, total=   1.1s\n",
      "[CV] clf__criterion=gini, clf__max_depth=3, clf__min_samples_leaf=2, clf__min_samples_split=1.0 \n",
      "[CV]  clf__criterion=gini, clf__max_depth=3, clf__min_samples_leaf=2, clf__min_samples_split=1.0, total=   1.1s\n",
      "[CV] clf__criterion=gini, clf__max_depth=3, clf__min_samples_leaf=2, clf__min_samples_split=1.0 \n",
      "[CV]  clf__criterion=gini, clf__max_depth=3, clf__min_samples_leaf=2, clf__min_samples_split=1.0, total=   1.1s\n",
      "[CV] clf__criterion=gini, clf__max_depth=3, clf__min_samples_leaf=2, clf__min_samples_split=2 \n",
      "[CV]  clf__criterion=gini, clf__max_depth=3, clf__min_samples_leaf=2, clf__min_samples_split=2, total=   7.2s\n",
      "[CV] clf__criterion=gini, clf__max_depth=3, clf__min_samples_leaf=2, clf__min_samples_split=2 \n",
      "[CV]  clf__criterion=gini, clf__max_depth=3, clf__min_samples_leaf=2, clf__min_samples_split=2, total=   7.4s\n",
      "[CV] clf__criterion=gini, clf__max_depth=3, clf__min_samples_leaf=2, clf__min_samples_split=2 \n",
      "[CV]  clf__criterion=gini, clf__max_depth=3, clf__min_samples_leaf=2, clf__min_samples_split=2, total=   7.3s\n",
      "[CV] clf__criterion=gini, clf__max_depth=3, clf__min_samples_leaf=2, clf__min_samples_split=3 \n",
      "[CV]  clf__criterion=gini, clf__max_depth=3, clf__min_samples_leaf=2, clf__min_samples_split=3, total=   7.6s\n",
      "[CV] clf__criterion=gini, clf__max_depth=3, clf__min_samples_leaf=2, clf__min_samples_split=3 \n",
      "[CV]  clf__criterion=gini, clf__max_depth=3, clf__min_samples_leaf=2, clf__min_samples_split=3, total=   7.7s\n",
      "[CV] clf__criterion=gini, clf__max_depth=3, clf__min_samples_leaf=2, clf__min_samples_split=3 \n",
      "[CV]  clf__criterion=gini, clf__max_depth=3, clf__min_samples_leaf=2, clf__min_samples_split=3, total=   7.7s\n",
      "[CV] clf__criterion=gini, clf__max_depth=5, clf__min_samples_leaf=1, clf__min_samples_split=1.0 \n",
      "[CV]  clf__criterion=gini, clf__max_depth=5, clf__min_samples_leaf=1, clf__min_samples_split=1.0, total=   1.2s\n",
      "[CV] clf__criterion=gini, clf__max_depth=5, clf__min_samples_leaf=1, clf__min_samples_split=1.0 \n",
      "[CV]  clf__criterion=gini, clf__max_depth=5, clf__min_samples_leaf=1, clf__min_samples_split=1.0, total=   1.1s\n",
      "[CV] clf__criterion=gini, clf__max_depth=5, clf__min_samples_leaf=1, clf__min_samples_split=1.0 \n",
      "[CV]  clf__criterion=gini, clf__max_depth=5, clf__min_samples_leaf=1, clf__min_samples_split=1.0, total=   1.2s\n",
      "[CV] clf__criterion=gini, clf__max_depth=5, clf__min_samples_leaf=1, clf__min_samples_split=2 \n",
      "[CV]  clf__criterion=gini, clf__max_depth=5, clf__min_samples_leaf=1, clf__min_samples_split=2, total=  11.5s\n",
      "[CV] clf__criterion=gini, clf__max_depth=5, clf__min_samples_leaf=1, clf__min_samples_split=2 \n",
      "[CV]  clf__criterion=gini, clf__max_depth=5, clf__min_samples_leaf=1, clf__min_samples_split=2, total=  11.7s\n",
      "[CV] clf__criterion=gini, clf__max_depth=5, clf__min_samples_leaf=1, clf__min_samples_split=2 \n"
     ]
    },
    {
     "name": "stdout",
     "output_type": "stream",
     "text": [
      "[CV]  clf__criterion=gini, clf__max_depth=5, clf__min_samples_leaf=1, clf__min_samples_split=2, total=  11.7s\n",
      "[CV] clf__criterion=gini, clf__max_depth=5, clf__min_samples_leaf=1, clf__min_samples_split=3 \n",
      "[CV]  clf__criterion=gini, clf__max_depth=5, clf__min_samples_leaf=1, clf__min_samples_split=3, total=  11.6s\n",
      "[CV] clf__criterion=gini, clf__max_depth=5, clf__min_samples_leaf=1, clf__min_samples_split=3 \n",
      "[CV]  clf__criterion=gini, clf__max_depth=5, clf__min_samples_leaf=1, clf__min_samples_split=3, total=  11.6s\n",
      "[CV] clf__criterion=gini, clf__max_depth=5, clf__min_samples_leaf=1, clf__min_samples_split=3 \n",
      "[CV]  clf__criterion=gini, clf__max_depth=5, clf__min_samples_leaf=1, clf__min_samples_split=3, total=  11.7s\n",
      "[CV] clf__criterion=gini, clf__max_depth=5, clf__min_samples_leaf=2, clf__min_samples_split=1.0 \n",
      "[CV]  clf__criterion=gini, clf__max_depth=5, clf__min_samples_leaf=2, clf__min_samples_split=1.0, total=   1.2s\n",
      "[CV] clf__criterion=gini, clf__max_depth=5, clf__min_samples_leaf=2, clf__min_samples_split=1.0 \n",
      "[CV]  clf__criterion=gini, clf__max_depth=5, clf__min_samples_leaf=2, clf__min_samples_split=1.0, total=   1.1s\n",
      "[CV] clf__criterion=gini, clf__max_depth=5, clf__min_samples_leaf=2, clf__min_samples_split=1.0 \n",
      "[CV]  clf__criterion=gini, clf__max_depth=5, clf__min_samples_leaf=2, clf__min_samples_split=1.0, total=   1.2s\n",
      "[CV] clf__criterion=gini, clf__max_depth=5, clf__min_samples_leaf=2, clf__min_samples_split=2 \n",
      "[CV]  clf__criterion=gini, clf__max_depth=5, clf__min_samples_leaf=2, clf__min_samples_split=2, total=  11.0s\n",
      "[CV] clf__criterion=gini, clf__max_depth=5, clf__min_samples_leaf=2, clf__min_samples_split=2 \n",
      "[CV]  clf__criterion=gini, clf__max_depth=5, clf__min_samples_leaf=2, clf__min_samples_split=2, total=  11.3s\n",
      "[CV] clf__criterion=gini, clf__max_depth=5, clf__min_samples_leaf=2, clf__min_samples_split=2 \n",
      "[CV]  clf__criterion=gini, clf__max_depth=5, clf__min_samples_leaf=2, clf__min_samples_split=2, total=  11.7s\n",
      "[CV] clf__criterion=gini, clf__max_depth=5, clf__min_samples_leaf=2, clf__min_samples_split=3 \n",
      "[CV]  clf__criterion=gini, clf__max_depth=5, clf__min_samples_leaf=2, clf__min_samples_split=3, total=  11.7s\n",
      "[CV] clf__criterion=gini, clf__max_depth=5, clf__min_samples_leaf=2, clf__min_samples_split=3 \n",
      "[CV]  clf__criterion=gini, clf__max_depth=5, clf__min_samples_leaf=2, clf__min_samples_split=3, total=  11.6s\n",
      "[CV] clf__criterion=gini, clf__max_depth=5, clf__min_samples_leaf=2, clf__min_samples_split=3 \n",
      "[CV]  clf__criterion=gini, clf__max_depth=5, clf__min_samples_leaf=2, clf__min_samples_split=3, total=  11.7s\n",
      "[CV] clf__criterion=entropy, clf__max_depth=1, clf__min_samples_leaf=1, clf__min_samples_split=1.0 \n",
      "[CV]  clf__criterion=entropy, clf__max_depth=1, clf__min_samples_leaf=1, clf__min_samples_split=1.0, total=   1.2s\n",
      "[CV] clf__criterion=entropy, clf__max_depth=1, clf__min_samples_leaf=1, clf__min_samples_split=1.0 \n",
      "[CV]  clf__criterion=entropy, clf__max_depth=1, clf__min_samples_leaf=1, clf__min_samples_split=1.0, total=   1.2s\n",
      "[CV] clf__criterion=entropy, clf__max_depth=1, clf__min_samples_leaf=1, clf__min_samples_split=1.0 \n",
      "[CV]  clf__criterion=entropy, clf__max_depth=1, clf__min_samples_leaf=1, clf__min_samples_split=1.0, total=   1.2s\n",
      "[CV] clf__criterion=entropy, clf__max_depth=1, clf__min_samples_leaf=1, clf__min_samples_split=2 \n",
      "[CV]  clf__criterion=entropy, clf__max_depth=1, clf__min_samples_leaf=1, clf__min_samples_split=2, total=   8.7s\n",
      "[CV] clf__criterion=entropy, clf__max_depth=1, clf__min_samples_leaf=1, clf__min_samples_split=2 \n",
      "[CV]  clf__criterion=entropy, clf__max_depth=1, clf__min_samples_leaf=1, clf__min_samples_split=2, total=   8.6s\n",
      "[CV] clf__criterion=entropy, clf__max_depth=1, clf__min_samples_leaf=1, clf__min_samples_split=2 \n",
      "[CV]  clf__criterion=entropy, clf__max_depth=1, clf__min_samples_leaf=1, clf__min_samples_split=2, total=   8.2s\n",
      "[CV] clf__criterion=entropy, clf__max_depth=1, clf__min_samples_leaf=1, clf__min_samples_split=3 \n",
      "[CV]  clf__criterion=entropy, clf__max_depth=1, clf__min_samples_leaf=1, clf__min_samples_split=3, total=   8.0s\n",
      "[CV] clf__criterion=entropy, clf__max_depth=1, clf__min_samples_leaf=1, clf__min_samples_split=3 \n",
      "[CV]  clf__criterion=entropy, clf__max_depth=1, clf__min_samples_leaf=1, clf__min_samples_split=3, total=   8.4s\n",
      "[CV] clf__criterion=entropy, clf__max_depth=1, clf__min_samples_leaf=1, clf__min_samples_split=3 \n",
      "[CV]  clf__criterion=entropy, clf__max_depth=1, clf__min_samples_leaf=1, clf__min_samples_split=3, total=   8.3s\n",
      "[CV] clf__criterion=entropy, clf__max_depth=1, clf__min_samples_leaf=2, clf__min_samples_split=1.0 \n",
      "[CV]  clf__criterion=entropy, clf__max_depth=1, clf__min_samples_leaf=2, clf__min_samples_split=1.0, total=   1.1s\n",
      "[CV] clf__criterion=entropy, clf__max_depth=1, clf__min_samples_leaf=2, clf__min_samples_split=1.0 \n",
      "[CV]  clf__criterion=entropy, clf__max_depth=1, clf__min_samples_leaf=2, clf__min_samples_split=1.0, total=   1.2s\n",
      "[CV] clf__criterion=entropy, clf__max_depth=1, clf__min_samples_leaf=2, clf__min_samples_split=1.0 \n",
      "[CV]  clf__criterion=entropy, clf__max_depth=1, clf__min_samples_leaf=2, clf__min_samples_split=1.0, total=   1.2s\n",
      "[CV] clf__criterion=entropy, clf__max_depth=1, clf__min_samples_leaf=2, clf__min_samples_split=2 \n",
      "[CV]  clf__criterion=entropy, clf__max_depth=1, clf__min_samples_leaf=2, clf__min_samples_split=2, total=   8.4s\n",
      "[CV] clf__criterion=entropy, clf__max_depth=1, clf__min_samples_leaf=2, clf__min_samples_split=2 \n",
      "[CV]  clf__criterion=entropy, clf__max_depth=1, clf__min_samples_leaf=2, clf__min_samples_split=2, total=   8.5s\n",
      "[CV] clf__criterion=entropy, clf__max_depth=1, clf__min_samples_leaf=2, clf__min_samples_split=2 \n",
      "[CV]  clf__criterion=entropy, clf__max_depth=1, clf__min_samples_leaf=2, clf__min_samples_split=2, total=   8.4s\n",
      "[CV] clf__criterion=entropy, clf__max_depth=1, clf__min_samples_leaf=2, clf__min_samples_split=3 \n",
      "[CV]  clf__criterion=entropy, clf__max_depth=1, clf__min_samples_leaf=2, clf__min_samples_split=3, total=   8.3s\n",
      "[CV] clf__criterion=entropy, clf__max_depth=1, clf__min_samples_leaf=2, clf__min_samples_split=3 \n",
      "[CV]  clf__criterion=entropy, clf__max_depth=1, clf__min_samples_leaf=2, clf__min_samples_split=3, total=   8.1s\n",
      "[CV] clf__criterion=entropy, clf__max_depth=1, clf__min_samples_leaf=2, clf__min_samples_split=3 \n",
      "[CV]  clf__criterion=entropy, clf__max_depth=1, clf__min_samples_leaf=2, clf__min_samples_split=3, total=   8.1s\n",
      "[CV] clf__criterion=entropy, clf__max_depth=3, clf__min_samples_leaf=1, clf__min_samples_split=1.0 \n",
      "[CV]  clf__criterion=entropy, clf__max_depth=3, clf__min_samples_leaf=1, clf__min_samples_split=1.0, total=   1.2s\n",
      "[CV] clf__criterion=entropy, clf__max_depth=3, clf__min_samples_leaf=1, clf__min_samples_split=1.0 \n",
      "[CV]  clf__criterion=entropy, clf__max_depth=3, clf__min_samples_leaf=1, clf__min_samples_split=1.0, total=   1.1s\n",
      "[CV] clf__criterion=entropy, clf__max_depth=3, clf__min_samples_leaf=1, clf__min_samples_split=1.0 \n",
      "[CV]  clf__criterion=entropy, clf__max_depth=3, clf__min_samples_leaf=1, clf__min_samples_split=1.0, total=   1.2s\n",
      "[CV] clf__criterion=entropy, clf__max_depth=3, clf__min_samples_leaf=1, clf__min_samples_split=2 \n",
      "[CV]  clf__criterion=entropy, clf__max_depth=3, clf__min_samples_leaf=1, clf__min_samples_split=2, total=  22.4s\n",
      "[CV] clf__criterion=entropy, clf__max_depth=3, clf__min_samples_leaf=1, clf__min_samples_split=2 \n",
      "[CV]  clf__criterion=entropy, clf__max_depth=3, clf__min_samples_leaf=1, clf__min_samples_split=2, total=  18.0s\n",
      "[CV] clf__criterion=entropy, clf__max_depth=3, clf__min_samples_leaf=1, clf__min_samples_split=2 \n",
      "[CV]  clf__criterion=entropy, clf__max_depth=3, clf__min_samples_leaf=1, clf__min_samples_split=2, total=  23.8s\n",
      "[CV] clf__criterion=entropy, clf__max_depth=3, clf__min_samples_leaf=1, clf__min_samples_split=3 \n",
      "[CV]  clf__criterion=entropy, clf__max_depth=3, clf__min_samples_leaf=1, clf__min_samples_split=3, total=  21.5s\n",
      "[CV] clf__criterion=entropy, clf__max_depth=3, clf__min_samples_leaf=1, clf__min_samples_split=3 \n",
      "[CV]  clf__criterion=entropy, clf__max_depth=3, clf__min_samples_leaf=1, clf__min_samples_split=3, total=  22.1s\n",
      "[CV] clf__criterion=entropy, clf__max_depth=3, clf__min_samples_leaf=1, clf__min_samples_split=3 \n"
     ]
    },
    {
     "name": "stdout",
     "output_type": "stream",
     "text": [
      "[CV]  clf__criterion=entropy, clf__max_depth=3, clf__min_samples_leaf=1, clf__min_samples_split=3, total=  22.3s\n",
      "[CV] clf__criterion=entropy, clf__max_depth=3, clf__min_samples_leaf=2, clf__min_samples_split=1.0 \n",
      "[CV]  clf__criterion=entropy, clf__max_depth=3, clf__min_samples_leaf=2, clf__min_samples_split=1.0, total=   1.1s\n",
      "[CV] clf__criterion=entropy, clf__max_depth=3, clf__min_samples_leaf=2, clf__min_samples_split=1.0 \n",
      "[CV]  clf__criterion=entropy, clf__max_depth=3, clf__min_samples_leaf=2, clf__min_samples_split=1.0, total=   1.1s\n",
      "[CV] clf__criterion=entropy, clf__max_depth=3, clf__min_samples_leaf=2, clf__min_samples_split=1.0 \n",
      "[CV]  clf__criterion=entropy, clf__max_depth=3, clf__min_samples_leaf=2, clf__min_samples_split=1.0, total=   1.1s\n",
      "[CV] clf__criterion=entropy, clf__max_depth=3, clf__min_samples_leaf=2, clf__min_samples_split=2 \n",
      "[CV]  clf__criterion=entropy, clf__max_depth=3, clf__min_samples_leaf=2, clf__min_samples_split=2, total=  22.0s\n",
      "[CV] clf__criterion=entropy, clf__max_depth=3, clf__min_samples_leaf=2, clf__min_samples_split=2 \n",
      "[CV]  clf__criterion=entropy, clf__max_depth=3, clf__min_samples_leaf=2, clf__min_samples_split=2, total=  22.1s\n",
      "[CV] clf__criterion=entropy, clf__max_depth=3, clf__min_samples_leaf=2, clf__min_samples_split=2 \n",
      "[CV]  clf__criterion=entropy, clf__max_depth=3, clf__min_samples_leaf=2, clf__min_samples_split=2, total=  22.2s\n",
      "[CV] clf__criterion=entropy, clf__max_depth=3, clf__min_samples_leaf=2, clf__min_samples_split=3 \n",
      "[CV]  clf__criterion=entropy, clf__max_depth=3, clf__min_samples_leaf=2, clf__min_samples_split=3, total=  21.7s\n",
      "[CV] clf__criterion=entropy, clf__max_depth=3, clf__min_samples_leaf=2, clf__min_samples_split=3 \n",
      "[CV]  clf__criterion=entropy, clf__max_depth=3, clf__min_samples_leaf=2, clf__min_samples_split=3, total=  21.1s\n",
      "[CV] clf__criterion=entropy, clf__max_depth=3, clf__min_samples_leaf=2, clf__min_samples_split=3 \n",
      "[CV]  clf__criterion=entropy, clf__max_depth=3, clf__min_samples_leaf=2, clf__min_samples_split=3, total=  23.1s\n",
      "[CV] clf__criterion=entropy, clf__max_depth=5, clf__min_samples_leaf=1, clf__min_samples_split=1.0 \n",
      "[CV]  clf__criterion=entropy, clf__max_depth=5, clf__min_samples_leaf=1, clf__min_samples_split=1.0, total=   1.1s\n",
      "[CV] clf__criterion=entropy, clf__max_depth=5, clf__min_samples_leaf=1, clf__min_samples_split=1.0 \n",
      "[CV]  clf__criterion=entropy, clf__max_depth=5, clf__min_samples_leaf=1, clf__min_samples_split=1.0, total=   1.1s\n",
      "[CV] clf__criterion=entropy, clf__max_depth=5, clf__min_samples_leaf=1, clf__min_samples_split=1.0 \n",
      "[CV]  clf__criterion=entropy, clf__max_depth=5, clf__min_samples_leaf=1, clf__min_samples_split=1.0, total=   1.1s\n",
      "[CV] clf__criterion=entropy, clf__max_depth=5, clf__min_samples_leaf=1, clf__min_samples_split=2 \n",
      "[CV]  clf__criterion=entropy, clf__max_depth=5, clf__min_samples_leaf=1, clf__min_samples_split=2, total=  35.0s\n",
      "[CV] clf__criterion=entropy, clf__max_depth=5, clf__min_samples_leaf=1, clf__min_samples_split=2 \n",
      "[CV]  clf__criterion=entropy, clf__max_depth=5, clf__min_samples_leaf=1, clf__min_samples_split=2, total=  35.1s\n",
      "[CV] clf__criterion=entropy, clf__max_depth=5, clf__min_samples_leaf=1, clf__min_samples_split=2 \n",
      "[CV]  clf__criterion=entropy, clf__max_depth=5, clf__min_samples_leaf=1, clf__min_samples_split=2, total=  33.4s\n",
      "[CV] clf__criterion=entropy, clf__max_depth=5, clf__min_samples_leaf=1, clf__min_samples_split=3 \n",
      "[CV]  clf__criterion=entropy, clf__max_depth=5, clf__min_samples_leaf=1, clf__min_samples_split=3, total=  34.2s\n",
      "[CV] clf__criterion=entropy, clf__max_depth=5, clf__min_samples_leaf=1, clf__min_samples_split=3 \n",
      "[CV]  clf__criterion=entropy, clf__max_depth=5, clf__min_samples_leaf=1, clf__min_samples_split=3, total=  34.5s\n",
      "[CV] clf__criterion=entropy, clf__max_depth=5, clf__min_samples_leaf=1, clf__min_samples_split=3 \n",
      "[CV]  clf__criterion=entropy, clf__max_depth=5, clf__min_samples_leaf=1, clf__min_samples_split=3, total=  34.4s\n",
      "[CV] clf__criterion=entropy, clf__max_depth=5, clf__min_samples_leaf=2, clf__min_samples_split=1.0 \n",
      "[CV]  clf__criterion=entropy, clf__max_depth=5, clf__min_samples_leaf=2, clf__min_samples_split=1.0, total=   0.9s\n",
      "[CV] clf__criterion=entropy, clf__max_depth=5, clf__min_samples_leaf=2, clf__min_samples_split=1.0 \n",
      "[CV]  clf__criterion=entropy, clf__max_depth=5, clf__min_samples_leaf=2, clf__min_samples_split=1.0, total=   1.1s\n",
      "[CV] clf__criterion=entropy, clf__max_depth=5, clf__min_samples_leaf=2, clf__min_samples_split=1.0 \n",
      "[CV]  clf__criterion=entropy, clf__max_depth=5, clf__min_samples_leaf=2, clf__min_samples_split=1.0, total=   1.0s\n",
      "[CV] clf__criterion=entropy, clf__max_depth=5, clf__min_samples_leaf=2, clf__min_samples_split=2 \n",
      "[CV]  clf__criterion=entropy, clf__max_depth=5, clf__min_samples_leaf=2, clf__min_samples_split=2, total=  35.5s\n",
      "[CV] clf__criterion=entropy, clf__max_depth=5, clf__min_samples_leaf=2, clf__min_samples_split=2 \n",
      "[CV]  clf__criterion=entropy, clf__max_depth=5, clf__min_samples_leaf=2, clf__min_samples_split=2, total=  35.0s\n",
      "[CV] clf__criterion=entropy, clf__max_depth=5, clf__min_samples_leaf=2, clf__min_samples_split=2 \n",
      "[CV]  clf__criterion=entropy, clf__max_depth=5, clf__min_samples_leaf=2, clf__min_samples_split=2, total=  35.2s\n",
      "[CV] clf__criterion=entropy, clf__max_depth=5, clf__min_samples_leaf=2, clf__min_samples_split=3 \n",
      "[CV]  clf__criterion=entropy, clf__max_depth=5, clf__min_samples_leaf=2, clf__min_samples_split=3, total=  35.4s\n",
      "[CV] clf__criterion=entropy, clf__max_depth=5, clf__min_samples_leaf=2, clf__min_samples_split=3 \n",
      "[CV]  clf__criterion=entropy, clf__max_depth=5, clf__min_samples_leaf=2, clf__min_samples_split=3, total=  33.1s\n",
      "[CV] clf__criterion=entropy, clf__max_depth=5, clf__min_samples_leaf=2, clf__min_samples_split=3 \n",
      "[CV]  clf__criterion=entropy, clf__max_depth=5, clf__min_samples_leaf=2, clf__min_samples_split=3, total=  34.9s\n"
     ]
    },
    {
     "name": "stderr",
     "output_type": "stream",
     "text": [
      "[Parallel(n_jobs=1)]: Done 108 out of 108 | elapsed: 18.2min finished\n"
     ]
    },
    {
     "name": "stdout",
     "output_type": "stream",
     "text": [
      "{'clf__criterion': 'entropy', 'clf__max_depth': 5, 'clf__min_samples_leaf': 2, 'clf__min_samples_split': 2}\n",
      "0.6733825847355259\n"
     ]
    }
   ],
   "source": [
    "# Your code here\n",
    "# ⏰ This cell may take a long time to run!\n",
    "pipe_rf = Pipeline([('pca', PCA(n_components=27, random_state=123)),\n",
    "                    ('clf', RandomForestClassifier(random_state=123))])\n",
    "\n",
    "param_grid_rf = {'clf__criterion': ['gini', 'entropy'],\n",
    "                 'clf__max_depth': [1,3,5],\n",
    "                 'clf__min_samples_split': [1.0,2,3],\n",
    "                 'clf__min_samples_leaf': [1,2]\n",
    "                }\n",
    "\n",
    "grid_search_rf = GridSearchCV(estimator=pipe_rf, param_grid=param_grid_rf, scoring='accuracy', verbose=2, cv=3)\n",
    "\n",
    "grid_search_rf.fit(X_train, y_train)\n",
    "\n",
    "print(grid_search_rf.best_params_)\n",
    "print(grid_search_rf.best_score_)"
   ]
  },
  {
   "cell_type": "markdown",
   "metadata": {},
   "source": [
    "Use your grid search object along with `.cv_results` to get the full result overview"
   ]
  },
  {
   "cell_type": "code",
   "execution_count": 40,
   "metadata": {},
   "outputs": [
    {
     "data": {
      "text/plain": [
       "{'mean_fit_time': array([ 0.98410145,  3.25176605,  3.2658271 ,  0.90910133,  3.11094872,\n",
       "         3.27503657,  1.00575868,  7.47254133,  7.4650654 ,  0.93492055,\n",
       "         7.10405771,  7.42708309,  0.98590827, 11.3476487 , 11.39845967,\n",
       "         0.99302928, 11.09084074, 11.40938727,  0.99332825,  8.28055668,\n",
       "         8.05091993,  0.98054934,  8.24598026,  7.99242338,  0.98957149,\n",
       "        21.20393666, 21.73763498,  0.95375379, 21.88044318, 21.76916099,\n",
       "         0.94790713, 34.23371379, 34.15717125,  0.8283511 , 34.96948369,\n",
       "        34.21069352]),\n",
       " 'std_fit_time': array([0.01077778, 0.00849423, 0.02261199, 0.03635675, 0.02378574,\n",
       "        0.02287825, 0.00707218, 0.07032292, 0.01575665, 0.04039783,\n",
       "        0.09107107, 0.05970459, 0.01958812, 0.09985222, 0.00747531,\n",
       "        0.01144172, 0.24506763, 0.03021218, 0.0026042 , 0.20340899,\n",
       "        0.17859762, 0.01233925, 0.04375967, 0.08000853, 0.01209983,\n",
       "        2.42901879, 0.35511456, 0.00685564, 0.05350991, 0.83466579,\n",
       "        0.02715387, 0.75662888, 0.12966096, 0.07522412, 0.22389069,\n",
       "        0.96694552]),\n",
       " 'mean_score_time': array([0.1734999 , 0.19316546, 0.18917616, 0.13696218, 0.18808444,\n",
       "        0.2021246 , 0.17985551, 0.21954815, 0.23160664, 0.16844742,\n",
       "        0.20227806, 0.21928366, 0.17623146, 0.25634925, 0.24668161,\n",
       "        0.16697303, 0.24119965, 0.25996399, 0.17458677, 0.1818436 ,\n",
       "        0.18780287, 0.17753824, 0.17551009, 0.17623655, 0.18197449,\n",
       "        0.18943882, 0.21436739, 0.16186484, 0.21545553, 0.19642456,\n",
       "        0.16814105, 0.24417337, 0.24248473, 0.16991123, 0.25057125,\n",
       "        0.26266122]),\n",
       " 'std_score_time': array([0.00855288, 0.00283909, 0.00448611, 0.03262514, 0.00569692,\n",
       "        0.00328981, 0.00384773, 0.01218673, 0.0006153 , 0.00338068,\n",
       "        0.01067384, 0.00994454, 0.00619449, 0.00164947, 0.01589127,\n",
       "        0.00559893, 0.01895864, 0.00338272, 0.00722219, 0.01793888,\n",
       "        0.01035051, 0.00457703, 0.00079964, 0.01572763, 0.00666039,\n",
       "        0.04941854, 0.00169821, 0.00727349, 0.00213832, 0.01426276,\n",
       "        0.00485011, 0.03000885, 0.00630319, 0.0019354 , 0.00464019,\n",
       "        0.00650111]),\n",
       " 'param_clf__criterion': masked_array(data=['gini', 'gini', 'gini', 'gini', 'gini', 'gini', 'gini',\n",
       "                    'gini', 'gini', 'gini', 'gini', 'gini', 'gini', 'gini',\n",
       "                    'gini', 'gini', 'gini', 'gini', 'entropy', 'entropy',\n",
       "                    'entropy', 'entropy', 'entropy', 'entropy', 'entropy',\n",
       "                    'entropy', 'entropy', 'entropy', 'entropy', 'entropy',\n",
       "                    'entropy', 'entropy', 'entropy', 'entropy', 'entropy',\n",
       "                    'entropy'],\n",
       "              mask=[False, False, False, False, False, False, False, False,\n",
       "                    False, False, False, False, False, False, False, False,\n",
       "                    False, False, False, False, False, False, False, False,\n",
       "                    False, False, False, False, False, False, False, False,\n",
       "                    False, False, False, False],\n",
       "        fill_value='?',\n",
       "             dtype=object),\n",
       " 'param_clf__max_depth': masked_array(data=[1, 1, 1, 1, 1, 1, 3, 3, 3, 3, 3, 3, 5, 5, 5, 5, 5, 5,\n",
       "                    1, 1, 1, 1, 1, 1, 3, 3, 3, 3, 3, 3, 5, 5, 5, 5, 5, 5],\n",
       "              mask=[False, False, False, False, False, False, False, False,\n",
       "                    False, False, False, False, False, False, False, False,\n",
       "                    False, False, False, False, False, False, False, False,\n",
       "                    False, False, False, False, False, False, False, False,\n",
       "                    False, False, False, False],\n",
       "        fill_value='?',\n",
       "             dtype=object),\n",
       " 'param_clf__min_samples_leaf': masked_array(data=[1, 1, 1, 2, 2, 2, 1, 1, 1, 2, 2, 2, 1, 1, 1, 2, 2, 2,\n",
       "                    1, 1, 1, 2, 2, 2, 1, 1, 1, 2, 2, 2, 1, 1, 1, 2, 2, 2],\n",
       "              mask=[False, False, False, False, False, False, False, False,\n",
       "                    False, False, False, False, False, False, False, False,\n",
       "                    False, False, False, False, False, False, False, False,\n",
       "                    False, False, False, False, False, False, False, False,\n",
       "                    False, False, False, False],\n",
       "        fill_value='?',\n",
       "             dtype=object),\n",
       " 'param_clf__min_samples_split': masked_array(data=[1.0, 2, 3, 1.0, 2, 3, 1.0, 2, 3, 1.0, 2, 3, 1.0, 2, 3,\n",
       "                    1.0, 2, 3, 1.0, 2, 3, 1.0, 2, 3, 1.0, 2, 3, 1.0, 2, 3,\n",
       "                    1.0, 2, 3, 1.0, 2, 3],\n",
       "              mask=[False, False, False, False, False, False, False, False,\n",
       "                    False, False, False, False, False, False, False, False,\n",
       "                    False, False, False, False, False, False, False, False,\n",
       "                    False, False, False, False, False, False, False, False,\n",
       "                    False, False, False, False],\n",
       "        fill_value='?',\n",
       "             dtype=object),\n",
       " 'params': [{'clf__criterion': 'gini',\n",
       "   'clf__max_depth': 1,\n",
       "   'clf__min_samples_leaf': 1,\n",
       "   'clf__min_samples_split': 1.0},\n",
       "  {'clf__criterion': 'gini',\n",
       "   'clf__max_depth': 1,\n",
       "   'clf__min_samples_leaf': 1,\n",
       "   'clf__min_samples_split': 2},\n",
       "  {'clf__criterion': 'gini',\n",
       "   'clf__max_depth': 1,\n",
       "   'clf__min_samples_leaf': 1,\n",
       "   'clf__min_samples_split': 3},\n",
       "  {'clf__criterion': 'gini',\n",
       "   'clf__max_depth': 1,\n",
       "   'clf__min_samples_leaf': 2,\n",
       "   'clf__min_samples_split': 1.0},\n",
       "  {'clf__criterion': 'gini',\n",
       "   'clf__max_depth': 1,\n",
       "   'clf__min_samples_leaf': 2,\n",
       "   'clf__min_samples_split': 2},\n",
       "  {'clf__criterion': 'gini',\n",
       "   'clf__max_depth': 1,\n",
       "   'clf__min_samples_leaf': 2,\n",
       "   'clf__min_samples_split': 3},\n",
       "  {'clf__criterion': 'gini',\n",
       "   'clf__max_depth': 3,\n",
       "   'clf__min_samples_leaf': 1,\n",
       "   'clf__min_samples_split': 1.0},\n",
       "  {'clf__criterion': 'gini',\n",
       "   'clf__max_depth': 3,\n",
       "   'clf__min_samples_leaf': 1,\n",
       "   'clf__min_samples_split': 2},\n",
       "  {'clf__criterion': 'gini',\n",
       "   'clf__max_depth': 3,\n",
       "   'clf__min_samples_leaf': 1,\n",
       "   'clf__min_samples_split': 3},\n",
       "  {'clf__criterion': 'gini',\n",
       "   'clf__max_depth': 3,\n",
       "   'clf__min_samples_leaf': 2,\n",
       "   'clf__min_samples_split': 1.0},\n",
       "  {'clf__criterion': 'gini',\n",
       "   'clf__max_depth': 3,\n",
       "   'clf__min_samples_leaf': 2,\n",
       "   'clf__min_samples_split': 2},\n",
       "  {'clf__criterion': 'gini',\n",
       "   'clf__max_depth': 3,\n",
       "   'clf__min_samples_leaf': 2,\n",
       "   'clf__min_samples_split': 3},\n",
       "  {'clf__criterion': 'gini',\n",
       "   'clf__max_depth': 5,\n",
       "   'clf__min_samples_leaf': 1,\n",
       "   'clf__min_samples_split': 1.0},\n",
       "  {'clf__criterion': 'gini',\n",
       "   'clf__max_depth': 5,\n",
       "   'clf__min_samples_leaf': 1,\n",
       "   'clf__min_samples_split': 2},\n",
       "  {'clf__criterion': 'gini',\n",
       "   'clf__max_depth': 5,\n",
       "   'clf__min_samples_leaf': 1,\n",
       "   'clf__min_samples_split': 3},\n",
       "  {'clf__criterion': 'gini',\n",
       "   'clf__max_depth': 5,\n",
       "   'clf__min_samples_leaf': 2,\n",
       "   'clf__min_samples_split': 1.0},\n",
       "  {'clf__criterion': 'gini',\n",
       "   'clf__max_depth': 5,\n",
       "   'clf__min_samples_leaf': 2,\n",
       "   'clf__min_samples_split': 2},\n",
       "  {'clf__criterion': 'gini',\n",
       "   'clf__max_depth': 5,\n",
       "   'clf__min_samples_leaf': 2,\n",
       "   'clf__min_samples_split': 3},\n",
       "  {'clf__criterion': 'entropy',\n",
       "   'clf__max_depth': 1,\n",
       "   'clf__min_samples_leaf': 1,\n",
       "   'clf__min_samples_split': 1.0},\n",
       "  {'clf__criterion': 'entropy',\n",
       "   'clf__max_depth': 1,\n",
       "   'clf__min_samples_leaf': 1,\n",
       "   'clf__min_samples_split': 2},\n",
       "  {'clf__criterion': 'entropy',\n",
       "   'clf__max_depth': 1,\n",
       "   'clf__min_samples_leaf': 1,\n",
       "   'clf__min_samples_split': 3},\n",
       "  {'clf__criterion': 'entropy',\n",
       "   'clf__max_depth': 1,\n",
       "   'clf__min_samples_leaf': 2,\n",
       "   'clf__min_samples_split': 1.0},\n",
       "  {'clf__criterion': 'entropy',\n",
       "   'clf__max_depth': 1,\n",
       "   'clf__min_samples_leaf': 2,\n",
       "   'clf__min_samples_split': 2},\n",
       "  {'clf__criterion': 'entropy',\n",
       "   'clf__max_depth': 1,\n",
       "   'clf__min_samples_leaf': 2,\n",
       "   'clf__min_samples_split': 3},\n",
       "  {'clf__criterion': 'entropy',\n",
       "   'clf__max_depth': 3,\n",
       "   'clf__min_samples_leaf': 1,\n",
       "   'clf__min_samples_split': 1.0},\n",
       "  {'clf__criterion': 'entropy',\n",
       "   'clf__max_depth': 3,\n",
       "   'clf__min_samples_leaf': 1,\n",
       "   'clf__min_samples_split': 2},\n",
       "  {'clf__criterion': 'entropy',\n",
       "   'clf__max_depth': 3,\n",
       "   'clf__min_samples_leaf': 1,\n",
       "   'clf__min_samples_split': 3},\n",
       "  {'clf__criterion': 'entropy',\n",
       "   'clf__max_depth': 3,\n",
       "   'clf__min_samples_leaf': 2,\n",
       "   'clf__min_samples_split': 1.0},\n",
       "  {'clf__criterion': 'entropy',\n",
       "   'clf__max_depth': 3,\n",
       "   'clf__min_samples_leaf': 2,\n",
       "   'clf__min_samples_split': 2},\n",
       "  {'clf__criterion': 'entropy',\n",
       "   'clf__max_depth': 3,\n",
       "   'clf__min_samples_leaf': 2,\n",
       "   'clf__min_samples_split': 3},\n",
       "  {'clf__criterion': 'entropy',\n",
       "   'clf__max_depth': 5,\n",
       "   'clf__min_samples_leaf': 1,\n",
       "   'clf__min_samples_split': 1.0},\n",
       "  {'clf__criterion': 'entropy',\n",
       "   'clf__max_depth': 5,\n",
       "   'clf__min_samples_leaf': 1,\n",
       "   'clf__min_samples_split': 2},\n",
       "  {'clf__criterion': 'entropy',\n",
       "   'clf__max_depth': 5,\n",
       "   'clf__min_samples_leaf': 1,\n",
       "   'clf__min_samples_split': 3},\n",
       "  {'clf__criterion': 'entropy',\n",
       "   'clf__max_depth': 5,\n",
       "   'clf__min_samples_leaf': 2,\n",
       "   'clf__min_samples_split': 1.0},\n",
       "  {'clf__criterion': 'entropy',\n",
       "   'clf__max_depth': 5,\n",
       "   'clf__min_samples_leaf': 2,\n",
       "   'clf__min_samples_split': 2},\n",
       "  {'clf__criterion': 'entropy',\n",
       "   'clf__max_depth': 5,\n",
       "   'clf__min_samples_leaf': 2,\n",
       "   'clf__min_samples_split': 3}],\n",
       " 'split0_test_score': array([0.26203943, 0.44101487, 0.44101487, 0.26203943, 0.44101487,\n",
       "        0.44101487, 0.26203943, 0.61918229, 0.61918229, 0.26203943,\n",
       "        0.61918229, 0.61918229, 0.26203943, 0.66491597, 0.66507757,\n",
       "        0.26203943, 0.66572398, 0.66572398, 0.26203943, 0.42865223,\n",
       "        0.42865223, 0.26203943, 0.42865223, 0.42865223, 0.26203943,\n",
       "        0.62548481, 0.62548481, 0.26203943, 0.62548481, 0.62548481,\n",
       "        0.26203943, 0.67105688, 0.67138009, 0.26203943, 0.67154169,\n",
       "        0.67154169]),\n",
       " 'split1_test_score': array([0.26214141, 0.44274747, 0.44274747, 0.26214141, 0.44274747,\n",
       "        0.44274747, 0.26214141, 0.616     , 0.616     , 0.26214141,\n",
       "        0.616     , 0.616     , 0.26214141, 0.66755556, 0.66739394,\n",
       "        0.26214141, 0.66763636, 0.66763636, 0.26214141, 0.4450101 ,\n",
       "        0.4450101 , 0.26214141, 0.4450101 , 0.4450101 , 0.26214141,\n",
       "        0.61963636, 0.61963636, 0.26214141, 0.61963636, 0.61963636,\n",
       "        0.26214141, 0.67353535, 0.67345455, 0.26214141, 0.67361616,\n",
       "        0.67361616]),\n",
       " 'split2_test_score': array([0.26214141, 0.43684848, 0.43684848, 0.26214141, 0.43684848,\n",
       "        0.43684848, 0.26214141, 0.60331313, 0.60331313, 0.26214141,\n",
       "        0.60331313, 0.60331313, 0.26214141, 0.66391919, 0.66375758,\n",
       "        0.26214141, 0.66351515, 0.66351515, 0.26214141, 0.43321212,\n",
       "        0.43321212, 0.26214141, 0.43321212, 0.43321212, 0.26214141,\n",
       "        0.62109091, 0.62109091, 0.26214141, 0.62109091, 0.62109091,\n",
       "        0.26214141, 0.67434343, 0.67434343, 0.26214141, 0.6749899 ,\n",
       "        0.6749899 ]),\n",
       " 'mean_test_score': array([0.26210742, 0.44020361, 0.44020361, 0.26210742, 0.44020361,\n",
       "        0.44020361, 0.26210742, 0.61283181, 0.61283181, 0.26210742,\n",
       "        0.61283181, 0.61283181, 0.26210742, 0.66546357, 0.66540969,\n",
       "        0.26210742, 0.66562517, 0.66562517, 0.26210742, 0.43562482,\n",
       "        0.43562482, 0.26210742, 0.43562482, 0.43562482, 0.26210742,\n",
       "        0.62207069, 0.62207069, 0.26210742, 0.62207069, 0.62207069,\n",
       "        0.26210742, 0.67297856, 0.67305936, 0.26210742, 0.67338258,\n",
       "        0.67338258]),\n",
       " 'std_test_score': array([4.80752399e-05, 2.47563132e-03, 2.47563132e-03, 4.80752399e-05,\n",
       "        2.47563132e-03, 2.47563132e-03, 4.80752399e-05, 6.85495554e-03,\n",
       "        6.85495554e-03, 4.80752399e-05, 6.85495554e-03, 6.85495554e-03,\n",
       "        4.80752399e-05, 1.53420739e-03, 1.50300046e-03, 4.80752399e-05,\n",
       "        1.68392811e-03, 1.68392811e-03, 4.80752399e-05, 6.89254730e-03,\n",
       "        6.89254730e-03, 4.80752399e-05, 6.89254730e-03, 6.89254730e-03,\n",
       "        4.80752399e-05, 2.48610312e-03, 2.48610312e-03, 4.80752399e-05,\n",
       "        2.48610312e-03, 2.48610312e-03, 4.80752399e-05, 1.39830118e-03,\n",
       "        1.24163394e-03, 4.80752399e-05, 1.41737991e-03, 1.41737991e-03]),\n",
       " 'rank_test_score': array([25, 17, 17, 25, 17, 17, 25, 13, 13, 25, 13, 13, 25,  7,  8, 25,  5,\n",
       "         5, 25, 21, 21, 25, 21, 21, 25,  9,  9, 25,  9,  9, 25,  4,  3, 25,\n",
       "         1,  1])}"
      ]
     },
     "execution_count": 40,
     "metadata": {},
     "output_type": "execute_result"
    }
   ],
   "source": [
    "grid_search_rf.cv_results_"
   ]
  },
  {
   "cell_type": "markdown",
   "metadata": {},
   "source": [
    "### Adaboost"
   ]
  },
  {
   "cell_type": "code",
   "execution_count": 42,
   "metadata": {},
   "outputs": [
    {
     "name": "stdout",
     "output_type": "stream",
     "text": [
      "Fitting 3 folds for each of 9 candidates, totalling 27 fits\n",
      "[CV] clf__learning_rate=0.01, clf__n_estimators=20 ...................\n"
     ]
    },
    {
     "name": "stderr",
     "output_type": "stream",
     "text": [
      "[Parallel(n_jobs=1)]: Using backend SequentialBackend with 1 concurrent workers.\n"
     ]
    },
    {
     "name": "stdout",
     "output_type": "stream",
     "text": [
      "[CV] .... clf__learning_rate=0.01, clf__n_estimators=20, total=   6.2s\n",
      "[CV] clf__learning_rate=0.01, clf__n_estimators=20 ...................\n"
     ]
    },
    {
     "name": "stderr",
     "output_type": "stream",
     "text": [
      "[Parallel(n_jobs=1)]: Done   1 out of   1 | elapsed:    6.1s remaining:    0.0s\n"
     ]
    },
    {
     "name": "stdout",
     "output_type": "stream",
     "text": [
      "[CV] .... clf__learning_rate=0.01, clf__n_estimators=20, total=   6.2s\n",
      "[CV] clf__learning_rate=0.01, clf__n_estimators=20 ...................\n",
      "[CV] .... clf__learning_rate=0.01, clf__n_estimators=20, total=   6.1s\n",
      "[CV] clf__learning_rate=0.01, clf__n_estimators=60 ...................\n",
      "[CV] .... clf__learning_rate=0.01, clf__n_estimators=60, total=  16.9s\n",
      "[CV] clf__learning_rate=0.01, clf__n_estimators=60 ...................\n",
      "[CV] .... clf__learning_rate=0.01, clf__n_estimators=60, total=  16.7s\n",
      "[CV] clf__learning_rate=0.01, clf__n_estimators=60 ...................\n",
      "[CV] .... clf__learning_rate=0.01, clf__n_estimators=60, total=  15.2s\n",
      "[CV] clf__learning_rate=0.01, clf__n_estimators=90 ...................\n",
      "[CV] .... clf__learning_rate=0.01, clf__n_estimators=90, total=  25.2s\n",
      "[CV] clf__learning_rate=0.01, clf__n_estimators=90 ...................\n",
      "[CV] .... clf__learning_rate=0.01, clf__n_estimators=90, total=  26.2s\n",
      "[CV] clf__learning_rate=0.01, clf__n_estimators=90 ...................\n",
      "[CV] .... clf__learning_rate=0.01, clf__n_estimators=90, total=  26.4s\n",
      "[CV] clf__learning_rate=0.1, clf__n_estimators=20 ....................\n",
      "[CV] ..... clf__learning_rate=0.1, clf__n_estimators=20, total=   6.1s\n",
      "[CV] clf__learning_rate=0.1, clf__n_estimators=20 ....................\n",
      "[CV] ..... clf__learning_rate=0.1, clf__n_estimators=20, total=   6.1s\n",
      "[CV] clf__learning_rate=0.1, clf__n_estimators=20 ....................\n",
      "[CV] ..... clf__learning_rate=0.1, clf__n_estimators=20, total=   5.9s\n",
      "[CV] clf__learning_rate=0.1, clf__n_estimators=60 ....................\n",
      "[CV] ..... clf__learning_rate=0.1, clf__n_estimators=60, total=  17.6s\n",
      "[CV] clf__learning_rate=0.1, clf__n_estimators=60 ....................\n",
      "[CV] ..... clf__learning_rate=0.1, clf__n_estimators=60, total=  17.3s\n",
      "[CV] clf__learning_rate=0.1, clf__n_estimators=60 ....................\n",
      "[CV] ..... clf__learning_rate=0.1, clf__n_estimators=60, total=  17.6s\n",
      "[CV] clf__learning_rate=0.1, clf__n_estimators=90 ....................\n",
      "[CV] ..... clf__learning_rate=0.1, clf__n_estimators=90, total=  26.1s\n",
      "[CV] clf__learning_rate=0.1, clf__n_estimators=90 ....................\n",
      "[CV] ..... clf__learning_rate=0.1, clf__n_estimators=90, total=  25.2s\n",
      "[CV] clf__learning_rate=0.1, clf__n_estimators=90 ....................\n",
      "[CV] ..... clf__learning_rate=0.1, clf__n_estimators=90, total=  26.4s\n",
      "[CV] clf__learning_rate=1, clf__n_estimators=20 ......................\n",
      "[CV] ....... clf__learning_rate=1, clf__n_estimators=20, total=   6.0s\n",
      "[CV] clf__learning_rate=1, clf__n_estimators=20 ......................\n",
      "[CV] ....... clf__learning_rate=1, clf__n_estimators=20, total=   5.7s\n",
      "[CV] clf__learning_rate=1, clf__n_estimators=20 ......................\n",
      "[CV] ....... clf__learning_rate=1, clf__n_estimators=20, total=   5.5s\n",
      "[CV] clf__learning_rate=1, clf__n_estimators=60 ......................\n",
      "[CV] ....... clf__learning_rate=1, clf__n_estimators=60, total=  14.4s\n",
      "[CV] clf__learning_rate=1, clf__n_estimators=60 ......................\n",
      "[CV] ....... clf__learning_rate=1, clf__n_estimators=60, total=  16.3s\n",
      "[CV] clf__learning_rate=1, clf__n_estimators=60 ......................\n",
      "[CV] ....... clf__learning_rate=1, clf__n_estimators=60, total=  14.7s\n",
      "[CV] clf__learning_rate=1, clf__n_estimators=90 ......................\n",
      "[CV] ....... clf__learning_rate=1, clf__n_estimators=90, total=  24.7s\n",
      "[CV] clf__learning_rate=1, clf__n_estimators=90 ......................\n",
      "[CV] ....... clf__learning_rate=1, clf__n_estimators=90, total=  24.9s\n",
      "[CV] clf__learning_rate=1, clf__n_estimators=90 ......................\n",
      "[CV] ....... clf__learning_rate=1, clf__n_estimators=90, total=  25.5s\n"
     ]
    },
    {
     "name": "stderr",
     "output_type": "stream",
     "text": [
      "[Parallel(n_jobs=1)]: Done  27 out of  27 | elapsed:  7.2min finished\n"
     ]
    },
    {
     "name": "stdout",
     "output_type": "stream",
     "text": [
      "{'clf__learning_rate': 0.1, 'clf__n_estimators': 90}\n",
      "0.6406561782444136\n"
     ]
    }
   ],
   "source": [
    "from sklearn.ensemble import AdaBoostClassifier\n",
    "# ⏰ This cell may take several minutes to run\n",
    "pipe_ada = Pipeline([('pca', PCA(n_components=27, random_state=123)),\n",
    "                    ('clf', AdaBoostClassifier(random_state=123))])\n",
    "\n",
    "param_grid_ada = {'clf__n_estimators': [20,60,90],\n",
    "                 'clf__learning_rate': [0.01, 0.1, 1]\n",
    "                }\n",
    "\n",
    "grid_search_ada = GridSearchCV(estimator=pipe_ada, param_grid=param_grid_ada, scoring='accuracy', verbose=2, cv=3)\n",
    "\n",
    "grid_search_ada.fit(X_train, y_train)\n",
    "\n",
    "print(grid_search_ada.best_params_)\n",
    "print(grid_search_ada.best_score_)"
   ]
  },
  {
   "cell_type": "markdown",
   "metadata": {},
   "source": [
    "Use your grid search object along with `.cv_results` to get the full result overview"
   ]
  },
  {
   "cell_type": "code",
   "execution_count": 43,
   "metadata": {},
   "outputs": [
    {
     "data": {
      "text/plain": [
       "{'mean_fit_time': array([ 6.02095421, 15.90484039, 25.44068519,  5.9175849 , 17.15407173,\n",
       "        25.36858892,  5.60284392, 14.85257212, 24.55380185]),\n",
       " 'std_fit_time': array([0.02412405, 0.73190346, 0.48095015, 0.0906158 , 0.18024857,\n",
       "        0.53377032, 0.22387436, 0.82479618, 0.29770236]),\n",
       " 'mean_score_time': array([0.14268136, 0.33887911, 0.49489339, 0.13957159, 0.35000801,\n",
       "        0.51644667, 0.13563498, 0.28347739, 0.50338093]),\n",
       " 'std_score_time': array([0.00170569, 0.01664264, 0.02997924, 0.00301379, 0.0114015 ,\n",
       "        0.00707688, 0.00789857, 0.03869729, 0.05030054]),\n",
       " 'param_clf__learning_rate': masked_array(data=[0.01, 0.01, 0.01, 0.1, 0.1, 0.1, 1, 1, 1],\n",
       "              mask=[False, False, False, False, False, False, False, False,\n",
       "                    False],\n",
       "        fill_value='?',\n",
       "             dtype=object),\n",
       " 'param_clf__n_estimators': masked_array(data=[20, 60, 90, 20, 60, 90, 20, 60, 90],\n",
       "              mask=[False, False, False, False, False, False, False, False,\n",
       "                    False],\n",
       "        fill_value='?',\n",
       "             dtype=object),\n",
       " 'params': [{'clf__learning_rate': 0.01, 'clf__n_estimators': 20},\n",
       "  {'clf__learning_rate': 0.01, 'clf__n_estimators': 60},\n",
       "  {'clf__learning_rate': 0.01, 'clf__n_estimators': 90},\n",
       "  {'clf__learning_rate': 0.1, 'clf__n_estimators': 20},\n",
       "  {'clf__learning_rate': 0.1, 'clf__n_estimators': 60},\n",
       "  {'clf__learning_rate': 0.1, 'clf__n_estimators': 90},\n",
       "  {'clf__learning_rate': 1, 'clf__n_estimators': 20},\n",
       "  {'clf__learning_rate': 1, 'clf__n_estimators': 60},\n",
       "  {'clf__learning_rate': 1, 'clf__n_estimators': 90}],\n",
       " 'split0_test_score': array([0.41564318, 0.43042986, 0.42574337, 0.4791532 , 0.61393019,\n",
       "        0.63938268, 0.64156432, 0.60851648, 0.59970911]),\n",
       " 'split1_test_score': array([0.41026263, 0.42545455, 0.44040404, 0.46626263, 0.60533333,\n",
       "        0.63684848, 0.61761616, 0.63361616, 0.62254545]),\n",
       " 'split2_test_score': array([0.42828283, 0.43094949, 0.43587879, 0.47878788, 0.61333333,\n",
       "        0.64573737, 0.6070303 , 0.62715152, 0.60937374]),\n",
       " 'mean_test_score': array([0.41806288, 0.42894463, 0.43400873, 0.47473457, 0.61086562,\n",
       "        0.64065618, 0.62207026, 0.62309472, 0.61054277]),\n",
       " 'std_test_score': array([0.00755306, 0.00247697, 0.00612952, 0.00599242, 0.0039195 ,\n",
       "        0.00373893, 0.01444596, 0.01064085, 0.00935947]),\n",
       " 'rank_test_score': array([9, 8, 7, 6, 4, 1, 3, 2, 5])}"
      ]
     },
     "execution_count": 43,
     "metadata": {},
     "output_type": "execute_result"
    }
   ],
   "source": [
    "grid_search_ada.cv_results_"
   ]
  },
  {
   "cell_type": "markdown",
   "metadata": {},
   "source": [
    "### Level-up: SVM pipeline with grid search"
   ]
  },
  {
   "cell_type": "code",
   "execution_count": null,
   "metadata": {},
   "outputs": [],
   "source": [
    "# Your code here\n",
    "# ⏰ This cell may take a very long time to run!"
   ]
  },
  {
   "cell_type": "markdown",
   "metadata": {},
   "source": [
    "Use your grid search object along with `.cv_results` to get the full result overview"
   ]
  },
  {
   "cell_type": "code",
   "execution_count": null,
   "metadata": {},
   "outputs": [],
   "source": [
    "# Your code here "
   ]
  },
  {
   "cell_type": "markdown",
   "metadata": {},
   "source": [
    "## Note\n",
    "\n",
    "Note that this solution is only one of many options. The results in the Random Forest and Adaboost models show that there is a lot of improvement possible tuning the hyperparameters further, so make sure to explore this yourself!"
   ]
  },
  {
   "cell_type": "markdown",
   "metadata": {},
   "source": [
    "## Summary \n",
    "\n",
    "Great! You now got a lot of practice in. What algorithm would you choose and why?"
   ]
  }
 ],
 "metadata": {
  "kernelspec": {
   "display_name": "learn-env",
   "language": "python",
   "name": "learn-env"
  },
  "language_info": {
   "codemirror_mode": {
    "name": "ipython",
    "version": 3
   },
   "file_extension": ".py",
   "mimetype": "text/x-python",
   "name": "python",
   "nbconvert_exporter": "python",
   "pygments_lexer": "ipython3",
   "version": "3.6.9"
  },
  "toc": {
   "base_numbering": 1,
   "nav_menu": {},
   "number_sections": true,
   "sideBar": true,
   "skip_h1_title": false,
   "title_cell": "Table of Contents",
   "title_sidebar": "Contents",
   "toc_cell": false,
   "toc_position": {},
   "toc_section_display": true,
   "toc_window_display": false
  },
  "varInspector": {
   "cols": {
    "lenName": 16,
    "lenType": 16,
    "lenVar": 40
   },
   "kernels_config": {
    "python": {
     "delete_cmd_postfix": "",
     "delete_cmd_prefix": "del ",
     "library": "var_list.py",
     "varRefreshCmd": "print(var_dic_list())"
    },
    "r": {
     "delete_cmd_postfix": ") ",
     "delete_cmd_prefix": "rm(",
     "library": "var_list.r",
     "varRefreshCmd": "cat(var_dic_list()) "
    }
   },
   "types_to_exclude": [
    "module",
    "function",
    "builtin_function_or_method",
    "instance",
    "_Feature"
   ],
   "window_display": false
  }
 },
 "nbformat": 4,
 "nbformat_minor": 2
}
